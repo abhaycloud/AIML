{
  "nbformat": 4,
  "nbformat_minor": 0,
  "metadata": {
    "colab": {
      "name": "Untitled",
      "provenance": [],
      "collapsed_sections": [],
      "include_colab_link": true
    },
    "kernelspec": {
      "name": "python3",
      "display_name": "Python 3"
    }
  },
  "cells": [
    {
      "cell_type": "markdown",
      "metadata": {
        "id": "view-in-github",
        "colab_type": "text"
      },
      "source": [
        "<a href=\"https://colab.research.google.com/github/abhaycloud/AIML/blob/master/ListDictionary.ipynb\" target=\"_parent\"><img src=\"https://colab.research.google.com/assets/colab-badge.svg\" alt=\"Open In Colab\"/></a>"
      ]
    },
    {
      "cell_type": "code",
      "metadata": {
        "id": "cvvMO3Zz3Xu8",
        "colab_type": "code",
        "colab": {}
      },
      "source": [
        "a=10\n",
        "a=12\n"
      ],
      "execution_count": 0,
      "outputs": []
    },
    {
      "cell_type": "code",
      "metadata": {
        "id": "gN8_ZFCn3a6w",
        "colab_type": "code",
        "colab": {
          "base_uri": "https://localhost:8080/",
          "height": 135
        },
        "outputId": "43297d46-63d3-416b-f0d7-f33011769ed0"
      },
      "source": [
        "if a%3 ==0:\n",
        "  print(\"hello\")\n",
        "  else:\n",
        "  print(\"welcome\")"
      ],
      "execution_count": 33,
      "outputs": [
        {
          "output_type": "error",
          "ename": "SyntaxError",
          "evalue": "ignored",
          "traceback": [
            "\u001b[0;36m  File \u001b[0;32m\"<ipython-input-33-690c3968f592>\"\u001b[0;36m, line \u001b[0;32m3\u001b[0m\n\u001b[0;31m    else:\u001b[0m\n\u001b[0m       ^\u001b[0m\n\u001b[0;31mSyntaxError\u001b[0m\u001b[0;31m:\u001b[0m invalid syntax\n"
          ]
        }
      ]
    },
    {
      "cell_type": "code",
      "metadata": {
        "id": "C5YDJLnl3r0W",
        "colab_type": "code",
        "colab": {
          "base_uri": "https://localhost:8080/",
          "height": 35
        },
        "outputId": "43705f93-e703-4d27-9776-1a829b20324e"
      },
      "source": [
        "if a%3 ==0:\n",
        "  print(\"hello\")"
      ],
      "execution_count": 29,
      "outputs": [
        {
          "output_type": "stream",
          "text": [
            "hello\n"
          ],
          "name": "stdout"
        }
      ]
    },
    {
      "cell_type": "code",
      "metadata": {
        "id": "XnDYkHbY3ohV",
        "colab_type": "code",
        "colab": {
          "base_uri": "https://localhost:8080/",
          "height": 135
        },
        "outputId": "20c55728-e948-42c6-f1aa-97f999ab2c94"
      },
      "source": [
        "if a%3 ==0:\n",
        "  print(\"Multiple of 3\")\n",
        "  else:\n",
        "  print(\"Not Multiple of 3\")"
      ],
      "execution_count": 34,
      "outputs": [
        {
          "output_type": "error",
          "ename": "SyntaxError",
          "evalue": "ignored",
          "traceback": [
            "\u001b[0;36m  File \u001b[0;32m\"<ipython-input-34-335073f9c9a1>\"\u001b[0;36m, line \u001b[0;32m3\u001b[0m\n\u001b[0;31m    else:\u001b[0m\n\u001b[0m       ^\u001b[0m\n\u001b[0;31mSyntaxError\u001b[0m\u001b[0;31m:\u001b[0m invalid syntax\n"
          ]
        }
      ]
    },
    {
      "cell_type": "markdown",
      "metadata": {
        "id": "ZLAij17x5Auf",
        "colab_type": "text"
      },
      "source": [
        ""
      ]
    },
    {
      "cell_type": "markdown",
      "metadata": {
        "id": "GKqjCwG448tf",
        "colab_type": "text"
      },
      "source": [
        "condition should be at same intendation "
      ]
    },
    {
      "cell_type": "code",
      "metadata": {
        "id": "AK4JArwI6W65",
        "colab_type": "code",
        "colab": {}
      },
      "source": [
        ""
      ],
      "execution_count": 0,
      "outputs": []
    },
    {
      "cell_type": "code",
      "metadata": {
        "id": "QtRh2iDs4z4z",
        "colab_type": "code",
        "colab": {
          "base_uri": "https://localhost:8080/",
          "height": 35
        },
        "outputId": "1efd6049-02a9-4632-b9b5-424690987a69"
      },
      "source": [
        "if a%3 ==0:\n",
        "  print(\"Multiple of 3\")\n",
        "else:\n",
        "  print(\"Not Multiple of 3\")"
      ],
      "execution_count": 35,
      "outputs": [
        {
          "output_type": "stream",
          "text": [
            "Multiple of 3\n"
          ],
          "name": "stdout"
        }
      ]
    },
    {
      "cell_type": "code",
      "metadata": {
        "id": "8UoC6APV6YtM",
        "colab_type": "code",
        "colab": {
          "base_uri": "https://localhost:8080/",
          "height": 53
        },
        "outputId": "5fd138d3-d385-4b64-ad0f-bf886f83550a"
      },
      "source": [
        "k=int(input(\"enter number\"))\n",
        "while k!=1: \n",
        "  if(k%2==0):\n",
        "    k//=2\n",
        "    print(k , end=\"\")\n",
        "  else:\n",
        "    k=k*3+1\n",
        "    print(k , end=\"\")\n",
        "\n"
      ],
      "execution_count": 49,
      "outputs": [
        {
          "output_type": "stream",
          "text": [
            "enter number9\n",
            "28147221134175226134020105168421"
          ],
          "name": "stdout"
        }
      ]
    },
    {
      "cell_type": "code",
      "metadata": {
        "id": "7nM9isdm_2Cd",
        "colab_type": "code",
        "colab": {
          "base_uri": "https://localhost:8080/",
          "height": 53
        },
        "outputId": "d402bf2c-9b4e-4e38-f163-4dc18e17bac6"
      },
      "source": [
        "def even(n):\n",
        "  if(n%2==0):\n",
        "    print(\"Even\")\n",
        "  else:\n",
        "    print(\"not even\")\n",
        "a=int(input())\n",
        "even(a)"
      ],
      "execution_count": 58,
      "outputs": [
        {
          "output_type": "stream",
          "text": [
            "5\n",
            "not even\n"
          ],
          "name": "stdout"
        }
      ]
    },
    {
      "cell_type": "code",
      "metadata": {
        "id": "2C40u7lfJbSL",
        "colab_type": "code",
        "colab": {}
      },
      "source": [
        ""
      ],
      "execution_count": 0,
      "outputs": []
    },
    {
      "cell_type": "code",
      "metadata": {
        "id": "NxHnW9EZAoB8",
        "colab_type": "code",
        "colab": {
          "base_uri": "https://localhost:8080/",
          "height": 71
        },
        "outputId": "8fd3e74b-df94-47bc-969f-cbc13ab7e042"
      },
      "source": [
        "a=int(input())\n",
        "b=int(input())\n",
        "def sum(n,m):\n",
        " print(n+m)\n",
        "\n",
        "sum(a,b)\n"
      ],
      "execution_count": 57,
      "outputs": [
        {
          "output_type": "stream",
          "text": [
            "5\n",
            "6\n",
            "11\n"
          ],
          "name": "stdout"
        }
      ]
    },
    {
      "cell_type": "code",
      "metadata": {
        "id": "VhOxLC8JJcNx",
        "colab_type": "code",
        "colab": {
          "base_uri": "https://localhost:8080/",
          "height": 35
        },
        "outputId": "bc81cbfa-dede-4101-baff-736984cf98fd"
      },
      "source": [
        "a=[0,1,1,4,5,11,23,34,45,56,78]\n",
        "fsq=[]\n",
        "for i in a:\n",
        "  fsq.append(i*i)\n",
        "\n",
        "print(fsq)\n"
      ],
      "execution_count": 60,
      "outputs": [
        {
          "output_type": "stream",
          "text": [
            "[0, 1, 1, 16, 25, 121, 529, 1156, 2025, 3136, 6084]\n"
          ],
          "name": "stdout"
        }
      ]
    },
    {
      "cell_type": "code",
      "metadata": {
        "id": "L3LucsssKEOH",
        "colab_type": "code",
        "colab": {
          "base_uri": "https://localhost:8080/",
          "height": 35
        },
        "outputId": "d25144d4-a5f1-4059-c14f-4e901725f5ce"
      },
      "source": [
        "fsq1=[i*i for i in a]\n",
        "print(fsq1)\n"
      ],
      "execution_count": 62,
      "outputs": [
        {
          "output_type": "stream",
          "text": [
            "[0, 1, 1, 16, 25, 121, 529, 1156, 2025, 3136, 6084]\n"
          ],
          "name": "stdout"
        }
      ]
    },
    {
      "cell_type": "code",
      "metadata": {
        "id": "rNyiqmwrKSP6",
        "colab_type": "code",
        "colab": {
          "base_uri": "https://localhost:8080/",
          "height": 35
        },
        "outputId": "5158b515-611b-49d7-e478-1f9e3607c1af"
      },
      "source": [
        "fsq2=[i*1for i in a if  i%3==0]\n",
        "print (fsq2)"
      ],
      "execution_count": 63,
      "outputs": [
        {
          "output_type": "stream",
          "text": [
            "[0, 45, 78]\n"
          ],
          "name": "stdout"
        }
      ]
    },
    {
      "cell_type": "code",
      "metadata": {
        "id": "7zPeC222LLE2",
        "colab_type": "code",
        "colab": {
          "base_uri": "https://localhost:8080/",
          "height": 35
        },
        "outputId": "9f76e78d-5c0e-4258-83c9-06302f11ae9f"
      },
      "source": [
        "n=12345\n",
        "print([int(ch) for ch in str(n)])\n"
      ],
      "execution_count": 64,
      "outputs": [
        {
          "output_type": "stream",
          "text": [
            "[1, 2, 3, 4, 5]\n"
          ],
          "name": "stdout"
        }
      ]
    },
    {
      "cell_type": "code",
      "metadata": {
        "id": "8zVaycUgLWNg",
        "colab_type": "code",
        "colab": {
          "base_uri": "https://localhost:8080/",
          "height": 35
        },
        "outputId": "d9bc74d7-c627-4bf0-ef60-e76c76ed8d22"
      },
      "source": [
        "def num2Char(n):\n",
        "  return [int(ch) for ch in str(n)]\n",
        "num2Char(7989)\n"
      ],
      "execution_count": 68,
      "outputs": [
        {
          "output_type": "execute_result",
          "data": {
            "text/plain": [
              "[7, 9, 8, 9]"
            ]
          },
          "metadata": {
            "tags": []
          },
          "execution_count": 68
        }
      ]
    },
    {
      "cell_type": "code",
      "metadata": {
        "id": "mnYCaEdnNP_2",
        "colab_type": "code",
        "colab": {}
      },
      "source": [
        "capital={\"india\":\"delhi\",\"UK\":\"london\"}\n"
      ],
      "execution_count": 0,
      "outputs": []
    },
    {
      "cell_type": "code",
      "metadata": {
        "id": "Eo5J36qGNrcK",
        "colab_type": "code",
        "colab": {
          "base_uri": "https://localhost:8080/",
          "height": 35
        },
        "outputId": "4d5200df-b9dd-4801-c5f9-8b34d761b02a"
      },
      "source": [
        "capital[\"UK\"]"
      ],
      "execution_count": 77,
      "outputs": [
        {
          "output_type": "execute_result",
          "data": {
            "text/plain": [
              "'london'"
            ]
          },
          "metadata": {
            "tags": []
          },
          "execution_count": 77
        }
      ]
    }
  ]
}