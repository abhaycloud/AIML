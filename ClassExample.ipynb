{
  "nbformat": 4,
  "nbformat_minor": 0,
  "metadata": {
    "colab": {
      "name": "Untitled",
      "provenance": [],
      "collapsed_sections": [],
      "include_colab_link": true
    },
    "kernelspec": {
      "name": "python3",
      "display_name": "Python 3"
    }
  },
  "cells": [
    {
      "cell_type": "markdown",
      "metadata": {
        "id": "view-in-github",
        "colab_type": "text"
      },
      "source": [
        "<a href=\"https://colab.research.google.com/github/abhaycloud/AIML/blob/master/ClassExample.ipynb\" target=\"_parent\"><img src=\"https://colab.research.google.com/assets/colab-badge.svg\" alt=\"Open In Colab\"/></a>"
      ]
    },
    {
      "cell_type": "code",
      "metadata": {
        "id": "hlWVtuCT-t5g",
        "colab_type": "code",
        "colab": {}
      },
      "source": [
        "class Person:\n",
        "  def __init__(self,name,age):\n",
        "    self.name=name\n",
        "    self.age=age\n",
        "  def show(self):\n",
        "    print(\"This Show\")\n",
        "    print(self.name)\n",
        "    print(self.age)\n",
        "p=Person(\"Abhay\",10)\n",
        "q=Person(\"Anshika\",20)\n"
      ],
      "execution_count": 0,
      "outputs": []
    },
    {
      "cell_type": "code",
      "metadata": {
        "id": "Eqj9tbANCYqH",
        "colab_type": "code",
        "colab": {}
      },
      "source": [
        "class NewPerson(Person):\n",
        "  pass"
      ],
      "execution_count": 0,
      "outputs": []
    },
    {
      "cell_type": "code",
      "metadata": {
        "id": "EbfbTb-MCnKY",
        "colab_type": "code",
        "colab": {
          "base_uri": "https://localhost:8080/",
          "height": 71
        },
        "outputId": "66ad98cd-ab8e-494f-90e7-92123851acf9"
      },
      "source": [
        "w=NewPerson(\"Aditi\",30)\n",
        "w.show()\n"
      ],
      "execution_count": 84,
      "outputs": [
        {
          "output_type": "stream",
          "text": [
            "This Show\n",
            "Aditi\n",
            "30\n"
          ],
          "name": "stdout"
        }
      ]
    },
    {
      "cell_type": "code",
      "metadata": {
        "id": "T0fMOi68_nrs",
        "colab_type": "code",
        "colab": {
          "base_uri": "https://localhost:8080/",
          "height": 143
        },
        "outputId": "3c1cf210-5428-4635-961d-dc92251b6c76"
      },
      "source": [
        "p.show()\n",
        "p.name\n",
        "\n",
        "q.show()\n",
        "q.name\n"
      ],
      "execution_count": 79,
      "outputs": [
        {
          "output_type": "stream",
          "text": [
            "This Show\n",
            "Abhay\n",
            "10\n",
            "This Show\n",
            "Anshika\n",
            "20\n"
          ],
          "name": "stdout"
        },
        {
          "output_type": "execute_result",
          "data": {
            "text/plain": [
              "'Anshika'"
            ]
          },
          "metadata": {
            "tags": []
          },
          "execution_count": 79
        }
      ]
    }
  ]
}